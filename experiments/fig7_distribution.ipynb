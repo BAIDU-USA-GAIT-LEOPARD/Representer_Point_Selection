{
 "cells": [
  {
   "cell_type": "code",
   "execution_count": 1,
   "metadata": {},
   "outputs": [
    {
     "name": "stderr",
     "output_type": "stream",
     "text": [
      "/usr0/home/cjyeh/anaconda/envs/py3/lib/python3.5/site-packages/h5py/__init__.py:36: FutureWarning: Conversion of the second argument of issubdtype from `float` to `np.floating` is deprecated. In future, it will be treated as `np.float64 == np.dtype(float).type`.\n",
      "  from ._conv import register_converters as _register_converters\n",
      "Using TensorFlow backend.\n"
     ]
    }
   ],
   "source": [
    "%matplotlib inline\n",
    "import time\n",
    "import matplotlib.pyplot as plt\n",
    "import numpy as np\n",
    "import pickle\n",
    "import os\n",
    "from keras.datasets import cifar10\n",
    "import torch"
   ]
  },
  {
   "cell_type": "code",
   "execution_count": 2,
   "metadata": {},
   "outputs": [],
   "source": [
    "num_classes = 10 #    \n",
    "(x_train, y_train), (x_test, y_test) = cifar10.load_data() \n",
    "# x_train - training data(images), y_train - labels(digits)\n",
    "\n",
    "with open(\"../output/weight_matrix_Cifar.pkl\", \"rb\") as input_file:\n",
    "    [weight_matrix,y_predict] = pickle.load(input_file)\n",
    "    \n",
    "output_test = pickle.load(open('../data/output_test_cifar.pkl', 'rb'))\n",
    "output_test_labels = np.argmax(output_test, axis=1)\n",
    "output_train_labels = np.argmax(y_predict, axis=1)\n",
    "\n",
    "with open('../data/intermediate34_train.pkl' , 'rb') as f:\n",
    "    train_output34 = pickle.load(f)\n",
    "    \n",
    "with open('../data/intermediate34_test.pkl', 'rb') as f:\n",
    "    test_output34 = pickle.load(f)\n",
    "    \n",
    "with open('../data/intermediate36_train.pkl' , 'rb') as f:\n",
    "    train_output36 = pickle.load(f)\n",
    "    \n",
    "with open('../data/intermediate36_test.pkl', 'rb') as f:\n",
    "    test_output36 = pickle.load(f)\n",
    "    \n",
    "with open('../data/presoft_test.pkl', 'rb') as f:\n",
    "    presoft_test = pickle.load(f)\n",
    "\n",
    "# Load influence functions \n",
    "# this contains the results for the first 1000 test points\n",
    "f = np.load('../output/cifar_inf_test_1000.npz')\n",
    "inf = f['influences']"
   ]
  },
  {
   "cell_type": "code",
   "execution_count": 3,
   "metadata": {},
   "outputs": [],
   "source": [
    "# sort the weight matrix for each target class\n",
    "top_orders = dict()\n",
    "for k in range(num_classes):\n",
    "    idx = np.flip(np.argsort(weight_matrix[:,k]), axis=0)\n",
    "    top_orders[k] = idx\n",
    "    \n",
    "top_abs_orders = dict()\n",
    "for k in range(num_classes):\n",
    "    idx = np.flip(np.argsort(np.abs(weight_matrix[:,k])), axis=0)\n",
    "    top_abs_orders[k] = idx\n",
    "\n",
    "# influence order\n",
    "inf_idx = np.flip(np.argsort(inf, axis=0), axis=0)\n",
    "inf_abs_idx = np.flip(np.argsort(np.abs(inf), axis=0), axis=0)"
   ]
  },
  {
   "cell_type": "code",
   "execution_count": 4,
   "metadata": {},
   "outputs": [],
   "source": [
    "### Compute the distribution using each method. \n",
    "tensor_train34 = torch.FloatTensor(train_output34)\n",
    "tensor_test34 = torch.FloatTensor(test_output34)\n",
    "w_tensor = torch.FloatTensor(weight_matrix)\n",
    "\n",
    "prod = torch.matmul(tensor_train34,torch.t(tensor_test34))\n",
    "dd = y_test.flatten()\n",
    "one_hot = np.eye(10)[dd]\n",
    "one_hot_tensor = torch.FloatTensor(one_hot)\n",
    "prod2 = torch.matmul(w_tensor, torch.t(one_hot_tensor))\n",
    "\n",
    "inf_ours = torch.mul(prod, prod2)[:, :1000]\n",
    "inf_ours = inf_ours.cpu().numpy()"
   ]
  },
  {
   "cell_type": "code",
   "execution_count": 5,
   "metadata": {},
   "outputs": [
    {
     "data": {
      "image/png": "[encoded data removed]",
      "text/plain": [
       "<Figure size 720x288 with 2 Axes>"
      ]
     },
     "metadata": {},
     "output_type": "display_data"
    }
   ],
   "source": [
    "## Plot the distribution for both methods. Plot the maximum training point influence.\n",
    "f, axs = plt.subplots(1,2, figsize=(10, 4))\n",
    "ours_hist = axs[0].hist(np.max(np.abs(inf_ours), axis=0), bins=30, label='ours', alpha=0.6)\n",
    "#axs[0].set_yscale('log')\n",
    "#plt.xscale('log')\n",
    "axs[0].set_xlabel('Maximum Absolute Training Representer Values (ours)')\n",
    "axs[0].set_ylabel('Number of Test Points')\n",
    "axs[0].set_title('Distribution of Maximum Absolute \\nTraining Representer Values', fontsize=14)\n",
    "\n",
    "bins = [0.0, 1e-95, 1e-50, 1e-45, 1e-40, 1e-35, 1e-30, 1e-25, 1e-20, 1e-15, 1e-10, 1e-5, 1e-1]\n",
    "inf_hist = axs[1].hist(np.max(np.abs(inf), axis=0), bins=bins, label='influence fn', alpha=0.6)\n",
    "axs[1].set_xscale('log')\n",
    "axs[1].set_xlabel('Maximum Absolute Training Point Influence (influence fn)')\n",
    "axs[1].set_ylabel('Number of Test Points')\n",
    "axs[1].set_title('Distribution of Maximum Absolute \\nTraining Influences', fontsize=14)\n",
    "plt.tight_layout()\n",
    "plt.savefig('inf_distribution.png', dpi=200)"
   ]
  },
  {
   "cell_type": "code",
   "execution_count": null,
   "metadata": {},
   "outputs": [],
   "source": []
  }
 ],
 "metadata": {
  "kernelspec": {
   "display_name": "Python 3",
   "language": "python",
   "name": "python3"
  },
  "language_info": {
   "codemirror_mode": {
    "name": "ipython",
    "version": 3
   },
   "file_extension": ".py",
   "mimetype": "text/x-python",
   "name": "python",
   "nbconvert_exporter": "python",
   "pygments_lexer": "ipython3",
   "version": "3.5.5"
  }
 },
 "nbformat": 4,
 "nbformat_minor": 2
}
